{
  "nbformat": 4,
  "nbformat_minor": 0,
  "metadata": {
    "colab": {
      "provenance": []
    },
    "kernelspec": {
      "name": "python3",
      "display_name": "Python 3"
    },
    "accelerator": "GPU"
  },
  "cells": [
    {
      "cell_type": "code",
      "metadata": {
        "colab": {
          "base_uri": "https://localhost:8080/"
        },
        "id": "O8R6mvDXOlvl",
        "outputId": "1ff46fd5-cc84-4a08-8d0d-13425a06763b"
      },
      "source": [
        "from google.colab import drive\n",
        "drive.mount(\"/content/gdrive\")"
      ],
      "execution_count": null,
      "outputs": [
        {
          "output_type": "stream",
          "text": [
            "Drive already mounted at /content/gdrive; to attempt to forcibly remount, call drive.mount(\"/content/gdrive\", force_remount=True).\n"
          ],
          "name": "stdout"
        }
      ]
    },
    {
      "cell_type": "code",
      "metadata": {
        "id": "-Okt60L1Sh-q"
      },
      "source": [
        "train_data_dir='/content/gdrive/My Drive/lung_colon_image_set/colon_image_sets'"
      ],
      "execution_count": null,
      "outputs": []
    },
    {
      "cell_type": "code",
      "metadata": {
        "id": "PqP71e_3Tr5J"
      },
      "source": [
        "from keras.preprocessing.image import ImageDataGenerator"
      ],
      "execution_count": null,
      "outputs": []
    },
    {
      "cell_type": "code",
      "metadata": {
        "colab": {
          "base_uri": "https://localhost:8080/"
        },
        "id": "R0iL6dVTTyer",
        "outputId": "8a7776fc-b44e-4626-ff69-e77e0fb409ef"
      },
      "source": [
        "train_datagen = ImageDataGenerator(rescale=1./255,\n",
        "    shear_range=0.2,\n",
        "    zoom_range=0.2,\n",
        "    horizontal_flip=True,\n",
        "    validation_split=0.2) # set validation split\n",
        "\n",
        "train_generator = train_datagen.flow_from_directory(\n",
        "    train_data_dir,\n",
        "    target_size=(150, 150),\n",
        "    batch_size=45,\n",
        "    class_mode='binary',\n",
        "    subset='training') # set as training data\n",
        "\n",
        "validation_generator = train_datagen.flow_from_directory(\n",
        "    train_data_dir, # same directory as training data\n",
        "    target_size=(150, 150),\n",
        "    batch_size=45,\n",
        "    class_mode='binary',\n",
        "    subset='validation') # set as validation data\n",
        "\n"
      ],
      "execution_count": null,
      "outputs": [
        {
          "output_type": "stream",
          "text": [
            "Found 8000 images belonging to 2 classes.\n",
            "Found 2000 images belonging to 2 classes.\n"
          ],
          "name": "stdout"
        }
      ]
    },
    {
      "cell_type": "code",
      "metadata": {
        "id": "xWoyCVHVUKxL"
      },
      "source": [
        "# example of tending the vgg16 model\n",
        "import keras\n",
        "from keras.applications.vgg16 import VGG16\n",
        "from keras.models import Model\n",
        "from keras.layers import Dense\n",
        "from keras.layers import Flatten\n",
        "# load model without classifier layers\n",
        "model =  VGG16(include_top=False, input_shape=(150, 150, 3))\n",
        "# add new classifier layers\n",
        "flat1 = Flatten()(model.layers[-1].output)\n",
        "class1 = Dense(1024, activation='relu')(flat1)\n",
        "output = Dense(2, activation='softmax')(class1)\n",
        "# define new model\n",
        "model = Model(inputs=model.inputs, outputs=output)\n",
        "opt = keras.optimizers.Adam(learning_rate=0.001)\n",
        "\n",
        "model.compile(optimizer= opt, loss='sparse_categorical_crossentropy',metrics=['accuracy'])"
      ],
      "execution_count": null,
      "outputs": []
    },
    {
      "cell_type": "code",
      "metadata": {
        "id": "qtx4d0fWcXaI"
      },
      "source": [
        "# simple early stopping\n",
        "from keras.callbacks import EarlyStopping\n",
        "from keras.callbacks import ModelCheckpoint\n",
        "es = EarlyStopping(monitor='val_loss', mode='min', verbose=1,patience=50)\n",
        "mc = ModelCheckpoint('/content/gdrive/My Drive/model/best_model.h5', monitor='val_accuracy', mode='max', verbose=1, save_best_only=True)"
      ],
      "execution_count": null,
      "outputs": []
    },
    {
      "cell_type": "code",
      "metadata": {
        "colab": {
          "base_uri": "https://localhost:8080/"
        },
        "id": "ZIXqTdOfUsMf",
        "outputId": "d1c3241f-bb6b-45ba-bf09-3c8cb7bbf33d"
      },
      "source": [
        "batch_size=45\n",
        "nb_epochs=1500\n",
        "history=model.fit(\n",
        "    train_generator,\n",
        "    batch_size=45,\n",
        "    validation_data = validation_generator,\n",
        "\n",
        "    epochs = nb_epochs,callbacks=[es])"
      ],
      "execution_count": null,
      "outputs": [
        {
          "output_type": "stream",
          "text": [
            "Epoch 1/1500\n",
            "  2/178 [..............................] - ETA: 13s - loss: 197.0881 - accuracy: 0.5556WARNING:tensorflow:Callbacks method `on_train_batch_end` is slow compared to the batch time (batch time: 0.0526s vs `on_train_batch_end` time: 0.1003s). Check your callbacks.\n",
            "178/178 [==============================] - 158s 886ms/step - loss: 3.2437 - accuracy: 0.4955 - val_loss: 0.6932 - val_accuracy: 0.5000\n",
            "Epoch 2/1500\n",
            "178/178 [==============================] - 157s 885ms/step - loss: 0.6933 - accuracy: 0.4941 - val_loss: 0.6932 - val_accuracy: 0.5000\n",
            "Epoch 3/1500\n",
            "178/178 [==============================] - 157s 884ms/step - loss: 0.6933 - accuracy: 0.4967 - val_loss: 0.6932 - val_accuracy: 0.5000\n",
            "Epoch 4/1500\n",
            "178/178 [==============================] - 158s 886ms/step - loss: 0.6932 - accuracy: 0.4913 - val_loss: 0.6932 - val_accuracy: 0.5000\n",
            "Epoch 5/1500\n",
            "178/178 [==============================] - 158s 890ms/step - loss: 0.6933 - accuracy: 0.4946 - val_loss: 0.6931 - val_accuracy: 0.5000\n",
            "Epoch 6/1500\n",
            "178/178 [==============================] - 158s 888ms/step - loss: 0.6932 - accuracy: 0.4950 - val_loss: 0.6932 - val_accuracy: 0.5000\n",
            "Epoch 7/1500\n",
            "178/178 [==============================] - 157s 883ms/step - loss: 0.6932 - accuracy: 0.4934 - val_loss: 0.6931 - val_accuracy: 0.5000\n",
            "Epoch 8/1500\n",
            "178/178 [==============================] - 156s 875ms/step - loss: 0.6932 - accuracy: 0.5001 - val_loss: 0.6931 - val_accuracy: 0.5000\n",
            "Epoch 9/1500\n",
            "178/178 [==============================] - 153s 862ms/step - loss: 0.6932 - accuracy: 0.4888 - val_loss: 0.6931 - val_accuracy: 0.5000\n",
            "Epoch 10/1500\n",
            "178/178 [==============================] - 153s 857ms/step - loss: 0.6932 - accuracy: 0.4944 - val_loss: 0.6931 - val_accuracy: 0.5000\n",
            "Epoch 11/1500\n",
            "178/178 [==============================] - 153s 858ms/step - loss: 0.6932 - accuracy: 0.4967 - val_loss: 0.6931 - val_accuracy: 0.5000\n",
            "Epoch 12/1500\n",
            "178/178 [==============================] - 153s 859ms/step - loss: 0.6932 - accuracy: 0.5006 - val_loss: 0.6931 - val_accuracy: 0.5000\n",
            "Epoch 13/1500\n",
            "178/178 [==============================] - 151s 849ms/step - loss: 0.6932 - accuracy: 0.5000 - val_loss: 0.6932 - val_accuracy: 0.5000\n",
            "Epoch 14/1500\n",
            "178/178 [==============================] - 152s 853ms/step - loss: 0.6932 - accuracy: 0.4915 - val_loss: 0.6931 - val_accuracy: 0.5000\n",
            "Epoch 15/1500\n",
            "178/178 [==============================] - 150s 844ms/step - loss: 0.6932 - accuracy: 0.4931 - val_loss: 0.6931 - val_accuracy: 0.5000\n",
            "Epoch 16/1500\n",
            "178/178 [==============================] - 150s 843ms/step - loss: 0.6932 - accuracy: 0.4865 - val_loss: 0.6932 - val_accuracy: 0.5000\n",
            "Epoch 17/1500\n",
            "178/178 [==============================] - 150s 843ms/step - loss: 0.6932 - accuracy: 0.5000 - val_loss: 0.6931 - val_accuracy: 0.5000\n",
            "Epoch 18/1500\n",
            "178/178 [==============================] - 150s 842ms/step - loss: 0.6932 - accuracy: 0.5006 - val_loss: 0.6931 - val_accuracy: 0.5000\n",
            "Epoch 19/1500\n",
            "178/178 [==============================] - 150s 840ms/step - loss: 0.6932 - accuracy: 0.4955 - val_loss: 0.6931 - val_accuracy: 0.5000\n",
            "Epoch 20/1500\n",
            "178/178 [==============================] - 150s 841ms/step - loss: 0.6932 - accuracy: 0.4981 - val_loss: 0.6931 - val_accuracy: 0.5000\n",
            "Epoch 21/1500\n",
            "178/178 [==============================] - 150s 842ms/step - loss: 0.6932 - accuracy: 0.4933 - val_loss: 0.6931 - val_accuracy: 0.5000\n",
            "Epoch 22/1500\n",
            "178/178 [==============================] - 149s 838ms/step - loss: 0.6932 - accuracy: 0.4966 - val_loss: 0.6932 - val_accuracy: 0.5000\n",
            "Epoch 23/1500\n",
            "178/178 [==============================] - 148s 832ms/step - loss: 0.6932 - accuracy: 0.4924 - val_loss: 0.6931 - val_accuracy: 0.5000\n",
            "Epoch 24/1500\n",
            "178/178 [==============================] - 148s 833ms/step - loss: 0.6932 - accuracy: 0.4851 - val_loss: 0.6931 - val_accuracy: 0.5000\n",
            "Epoch 25/1500\n",
            "178/178 [==============================] - 150s 840ms/step - loss: 0.6932 - accuracy: 0.4997 - val_loss: 0.6932 - val_accuracy: 0.5000\n",
            "Epoch 26/1500\n",
            "178/178 [==============================] - 150s 842ms/step - loss: 0.6932 - accuracy: 0.4989 - val_loss: 0.6931 - val_accuracy: 0.5000\n",
            "Epoch 27/1500\n",
            "178/178 [==============================] - 149s 835ms/step - loss: 0.6932 - accuracy: 0.4971 - val_loss: 0.6931 - val_accuracy: 0.5000\n",
            "Epoch 28/1500\n",
            "178/178 [==============================] - 147s 828ms/step - loss: 0.6932 - accuracy: 0.4869 - val_loss: 0.6931 - val_accuracy: 0.5000\n",
            "Epoch 29/1500\n",
            "178/178 [==============================] - 146s 822ms/step - loss: 0.6932 - accuracy: 0.4906 - val_loss: 0.6932 - val_accuracy: 0.5000\n",
            "Epoch 30/1500\n",
            "178/178 [==============================] - 146s 819ms/step - loss: 0.6932 - accuracy: 0.4994 - val_loss: 0.6931 - val_accuracy: 0.5000\n",
            "Epoch 31/1500\n",
            "178/178 [==============================] - 146s 822ms/step - loss: 0.6932 - accuracy: 0.4939 - val_loss: 0.6931 - val_accuracy: 0.5000\n",
            "Epoch 32/1500\n",
            "178/178 [==============================] - 146s 822ms/step - loss: 0.6932 - accuracy: 0.4918 - val_loss: 0.6931 - val_accuracy: 0.5000\n",
            "Epoch 33/1500\n",
            "178/178 [==============================] - 147s 826ms/step - loss: 0.6932 - accuracy: 0.4930 - val_loss: 0.6931 - val_accuracy: 0.5000\n",
            "Epoch 34/1500\n",
            "178/178 [==============================] - 148s 833ms/step - loss: 0.6932 - accuracy: 0.4913 - val_loss: 0.6931 - val_accuracy: 0.5000\n",
            "Epoch 35/1500\n",
            "178/178 [==============================] - 149s 836ms/step - loss: 0.6932 - accuracy: 0.4952 - val_loss: 0.6931 - val_accuracy: 0.5000\n",
            "Epoch 36/1500\n",
            "178/178 [==============================] - 148s 832ms/step - loss: 0.6932 - accuracy: 0.4933 - val_loss: 0.6932 - val_accuracy: 0.5000\n",
            "Epoch 37/1500\n",
            "178/178 [==============================] - 148s 831ms/step - loss: 0.6932 - accuracy: 0.4988 - val_loss: 0.6931 - val_accuracy: 0.5000\n",
            "Epoch 38/1500\n",
            "178/178 [==============================] - 147s 827ms/step - loss: 0.6932 - accuracy: 0.4967 - val_loss: 0.6932 - val_accuracy: 0.5000\n",
            "Epoch 39/1500\n",
            "178/178 [==============================] - 149s 835ms/step - loss: 0.6932 - accuracy: 0.4942 - val_loss: 0.6931 - val_accuracy: 0.5000\n",
            "Epoch 40/1500\n",
            "178/178 [==============================] - 148s 832ms/step - loss: 0.6932 - accuracy: 0.4934 - val_loss: 0.6931 - val_accuracy: 0.5000\n",
            "Epoch 41/1500\n",
            "178/178 [==============================] - 149s 834ms/step - loss: 0.6932 - accuracy: 0.4927 - val_loss: 0.6931 - val_accuracy: 0.5000\n",
            "Epoch 42/1500\n",
            "178/178 [==============================] - 148s 834ms/step - loss: 0.6932 - accuracy: 0.4947 - val_loss: 0.6931 - val_accuracy: 0.5000\n",
            "Epoch 43/1500\n",
            "178/178 [==============================] - 148s 830ms/step - loss: 0.6932 - accuracy: 0.4983 - val_loss: 0.6932 - val_accuracy: 0.5000\n",
            "Epoch 44/1500\n",
            "178/178 [==============================] - 148s 832ms/step - loss: 0.6932 - accuracy: 0.4965 - val_loss: 0.6931 - val_accuracy: 0.5000\n",
            "Epoch 45/1500\n",
            "178/178 [==============================] - 149s 835ms/step - loss: 0.6932 - accuracy: 0.4976 - val_loss: 0.6931 - val_accuracy: 0.5000\n",
            "Epoch 46/1500\n",
            "178/178 [==============================] - 149s 836ms/step - loss: 0.6932 - accuracy: 0.4927 - val_loss: 0.6931 - val_accuracy: 0.5000\n",
            "Epoch 47/1500\n",
            "178/178 [==============================] - 149s 837ms/step - loss: 0.6932 - accuracy: 0.5000 - val_loss: 0.6931 - val_accuracy: 0.5000\n",
            "Epoch 48/1500\n",
            "178/178 [==============================] - 150s 840ms/step - loss: 0.6932 - accuracy: 0.5010 - val_loss: 0.6931 - val_accuracy: 0.5000\n",
            "Epoch 49/1500\n",
            "178/178 [==============================] - 149s 838ms/step - loss: 0.6932 - accuracy: 0.4966 - val_loss: 0.6931 - val_accuracy: 0.5000\n",
            "Epoch 50/1500\n",
            "178/178 [==============================] - 149s 834ms/step - loss: 0.6932 - accuracy: 0.4899 - val_loss: 0.6931 - val_accuracy: 0.5000\n",
            "Epoch 51/1500\n",
            "178/178 [==============================] - 146s 823ms/step - loss: 0.6932 - accuracy: 0.4940 - val_loss: 0.6932 - val_accuracy: 0.5000\n",
            "Epoch 52/1500\n",
            "178/178 [==============================] - 145s 817ms/step - loss: 0.6932 - accuracy: 0.4946 - val_loss: 0.6931 - val_accuracy: 0.5000\n",
            "Epoch 53/1500\n",
            "178/178 [==============================] - 143s 803ms/step - loss: 0.6932 - accuracy: 0.4947 - val_loss: 0.6931 - val_accuracy: 0.5000\n",
            "Epoch 54/1500\n",
            "178/178 [==============================] - 147s 827ms/step - loss: 0.6932 - accuracy: 0.4933 - val_loss: 0.6931 - val_accuracy: 0.5000\n",
            "Epoch 55/1500\n",
            "178/178 [==============================] - 147s 827ms/step - loss: 0.6932 - accuracy: 0.5014 - val_loss: 0.6932 - val_accuracy: 0.5000\n",
            "Epoch 56/1500\n",
            "178/178 [==============================] - 148s 833ms/step - loss: 0.6932 - accuracy: 0.5014 - val_loss: 0.6932 - val_accuracy: 0.5000\n",
            "Epoch 57/1500\n",
            "178/178 [==============================] - 148s 834ms/step - loss: 0.6932 - accuracy: 0.4995 - val_loss: 0.6931 - val_accuracy: 0.5000\n",
            "Epoch 58/1500\n",
            "178/178 [==============================] - 148s 833ms/step - loss: 0.6932 - accuracy: 0.4856 - val_loss: 0.6931 - val_accuracy: 0.5000\n",
            "Epoch 59/1500\n",
            "178/178 [==============================] - 147s 826ms/step - loss: 0.6932 - accuracy: 0.4860 - val_loss: 0.6931 - val_accuracy: 0.5000\n",
            "Epoch 60/1500\n",
            "178/178 [==============================] - 147s 826ms/step - loss: 0.6932 - accuracy: 0.4971 - val_loss: 0.6932 - val_accuracy: 0.5000\n",
            "Epoch 61/1500\n",
            "178/178 [==============================] - 146s 821ms/step - loss: 0.6932 - accuracy: 0.4964 - val_loss: 0.6931 - val_accuracy: 0.5000\n",
            "Epoch 00061: early stopping\n"
          ],
          "name": "stdout"
        }
      ]
    },
    {
      "cell_type": "code",
      "metadata": {
        "id": "HsNvskKxVJ_h",
        "colab": {
          "base_uri": "https://localhost:8080/"
        },
        "outputId": "7cdedf2d-cbb8-4615-ea78-f925d560a79e"
      },
      "source": [
        "test_directory='/content/gdrive/My Drive/CAT_DOGS/2Class/testing_data'\n",
        "test_datagen = ImageDataGenerator(rescale=1./255)\n",
        "test_generator = test_datagen.flow_from_directory(\n",
        "    test_directory, # same directory as training data\n",
        "    target_size=(150, 150),\n",
        "    batch_size=32,\n",
        "    class_mode='binary')\n"
      ],
      "execution_count": null,
      "outputs": [
        {
          "output_type": "stream",
          "text": [
            "Found 400 images belonging to 2 classes.\n"
          ],
          "name": "stdout"
        }
      ]
    },
    {
      "cell_type": "code",
      "metadata": {
        "colab": {
          "base_uri": "https://localhost:8080/"
        },
        "id": "2DmLq9U2oYAh",
        "outputId": "f89a59f9-d9c5-49c2-ebaa-9a855eb33088"
      },
      "source": [
        "score = model.evaluate(test_generator)\n"
      ],
      "execution_count": null,
      "outputs": [
        {
          "output_type": "stream",
          "text": [
            "13/13 [==============================] - 185s 14s/step - loss: 0.6932 - accuracy: 0.5000\n"
          ],
          "name": "stdout"
        }
      ]
    },
    {
      "cell_type": "code",
      "metadata": {
        "colab": {
          "base_uri": "https://localhost:8080/"
        },
        "id": "fZBXxEYSoda7",
        "outputId": "e196b44d-388a-4192-8e91-d62402be2130"
      },
      "source": [
        "print(score)\n"
      ],
      "execution_count": null,
      "outputs": [
        {
          "output_type": "stream",
          "text": [
            "[0.6931523680686951, 0.5]\n"
          ],
          "name": "stdout"
        }
      ]
    },
    {
      "cell_type": "code",
      "metadata": {
        "colab": {
          "base_uri": "https://localhost:8080/"
        },
        "id": "SHY0GIM7sytd",
        "outputId": "896e4fe4-2dc9-47f9-fabc-59eed57d1799"
      },
      "source": [
        "#Confution Matrix and Classification Report\n",
        "import numpy as np\n",
        "from sklearn.metrics import classification_report, confusion_matrix\n",
        "num_of_test_samples=400\n",
        "Y_pred = model.predict(test_generator, num_of_test_samples // batch_size+1)\n",
        "y_pred = np.argmax(Y_pred, axis=1)\n",
        "print('Confusion Matrix')\n",
        "print(confusion_matrix(test_generator.classes, y_pred))\n",
        "print('Classification Report')\n",
        "target_names = ['adenocarcinomas', 'benign']\n",
        "print(classification_report(test_generator.classes, y_pred, target_names=target_names))\n"
      ],
      "execution_count": null,
      "outputs": [
        {
          "output_type": "stream",
          "text": [
            "Confusion Matrix\n",
            "[[200   0]\n",
            " [200   0]]\n",
            "Classification Report\n",
            "                 precision    recall  f1-score   support\n",
            "\n",
            "adenocarcinomas       0.50      1.00      0.67       200\n",
            "         benign       0.00      0.00      0.00       200\n",
            "\n",
            "       accuracy                           0.50       400\n",
            "      macro avg       0.25      0.50      0.33       400\n",
            "   weighted avg       0.25      0.50      0.33       400\n",
            "\n"
          ],
          "name": "stdout"
        },
        {
          "output_type": "stream",
          "text": [
            "/usr/local/lib/python3.6/dist-packages/sklearn/metrics/_classification.py:1272: UndefinedMetricWarning: Precision and F-score are ill-defined and being set to 0.0 in labels with no predicted samples. Use `zero_division` parameter to control this behavior.\n",
            "  _warn_prf(average, modifier, msg_start, len(result))\n"
          ],
          "name": "stderr"
        }
      ]
    },
    {
      "cell_type": "code",
      "metadata": {
        "id": "2wL7xRPUthEP"
      },
      "source": [],
      "execution_count": null,
      "outputs": []
    }
  ]
}