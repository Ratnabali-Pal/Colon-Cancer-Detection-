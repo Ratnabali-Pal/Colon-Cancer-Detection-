{
  "nbformat": 4,
  "nbformat_minor": 0,
  "metadata": {
    "colab": {
      "provenance": []
    },
    "kernelspec": {
      "name": "python3",
      "display_name": "Python 3"
    }
  },
  "cells": [
    {
      "cell_type": "code",
      "metadata": {
        "colab": {
          "base_uri": "https://localhost:8080/"
        },
        "id": "rX-8PxFqFz_2",
        "outputId": "f7390518-8e86-4b80-d3e7-e8ad974a5a15"
      },
      "source": [
        "from google.colab import drive\n",
        "drive.mount(\"/content/gdrive\")\n"
      ],
      "execution_count": null,
      "outputs": [
        {
          "output_type": "stream",
          "text": [
            "Mounted at /content/gdrive\n"
          ],
          "name": "stdout"
        }
      ]
    },
    {
      "cell_type": "code",
      "metadata": {
        "id": "lKDBT2TcGJwp"
      },
      "source": [
        "train_data_dir='/content/gdrive/My Drive/lung_colon_image_set/colon_image_sets'\n",
        "\n"
      ],
      "execution_count": null,
      "outputs": []
    },
    {
      "cell_type": "code",
      "metadata": {
        "id": "20DvA4XaGjIX"
      },
      "source": [
        "from keras.preprocessing.image import ImageDataGenerator"
      ],
      "execution_count": null,
      "outputs": []
    },
    {
      "cell_type": "code",
      "metadata": {
        "colab": {
          "base_uri": "https://localhost:8080/"
        },
        "id": "8Wy4_zQKGn2R",
        "outputId": "206aac60-78bf-4109-b134-ca0e887a85b5"
      },
      "source": [
        "train_datagen = ImageDataGenerator(rescale=1./255,\n",
        "    shear_range=0.2,\n",
        "    zoom_range=0.2,\n",
        "    horizontal_flip=True,\n",
        "    validation_split=0.2) # set validation split\n",
        "\n",
        "train_generator = train_datagen.flow_from_directory(\n",
        "    train_data_dir,\n",
        "    target_size=(150, 150),\n",
        "    batch_size=45,\n",
        "    class_mode='binary',\n",
        "    subset='training') # set as training data\n",
        "\n",
        "validation_generator = train_datagen.flow_from_directory(\n",
        "    train_data_dir, # same directory as training data\n",
        "    target_size=(150, 150),\n",
        "    batch_size=45,\n",
        "    class_mode='binary',\n",
        "    subset='validation') # set as validation data\n",
        ""
      ],
      "execution_count": null,
      "outputs": [
        {
          "output_type": "stream",
          "text": [
            "Found 8000 images belonging to 2 classes.\n",
            "Found 2000 images belonging to 2 classes.\n"
          ],
          "name": "stdout"
        }
      ]
    },
    {
      "cell_type": "code",
      "metadata": {
        "colab": {
          "base_uri": "https://localhost:8080/"
        },
        "id": "bo9by-qPGtw4",
        "outputId": "d199cd63-81eb-415f-f0f6-f06d1484b1b5"
      },
      "source": [
        "# example of tending the resNet50 model\n",
        "from tensorflow.keras.applications import ResNet50\n",
        "import keras\n",
        "from keras.models import Model\n",
        "from keras.layers import Dense\n",
        "from keras.layers import Flatten\n",
        "# load model without classifier layers\n",
        "model = ResNet50(include_top=False, input_shape=(150, 150, 3))\n",
        "# add new classifier layers\n",
        "flat1 = Flatten()(model.layers[-1].output)\n",
        "class1 = Dense(1024, activation='relu')(flat1)\n",
        "output = Dense(2, activation='softmax')(class1)\n",
        "# define new model\n",
        "model = Model(inputs=model.inputs, outputs=output)\n",
        "opt = keras.optimizers.Adam(learning_rate=0.001)\n",
        "\n",
        "model.compile(optimizer= opt, loss='sparse_categorical_crossentropy',metrics=['accuracy'])"
      ],
      "execution_count": null,
      "outputs": [
        {
          "output_type": "stream",
          "text": [
            "Downloading data from https://storage.googleapis.com/tensorflow/keras-applications/resnet/resnet50_weights_tf_dim_ordering_tf_kernels_notop.h5\n",
            "94773248/94765736 [==============================] - 5s 0us/step\n"
          ],
          "name": "stdout"
        }
      ]
    },
    {
      "cell_type": "code",
      "metadata": {
        "id": "tzCdONXFIY5m"
      },
      "source": [
        "# simple early stopping\n",
        "from keras.callbacks import EarlyStopping\n",
        "from keras.callbacks import ModelCheckpoint\n",
        "es = EarlyStopping(monitor='val_loss', mode='min', verbose=1,patience=50)\n",
        "mc = ModelCheckpoint('/content/gdrive/My Drive/model/best_model.h5', monitor='val_accuracy', mode='max', verbose=1, save_best_only=True)\n"
      ],
      "execution_count": null,
      "outputs": []
    },
    {
      "cell_type": "code",
      "metadata": {
        "colab": {
          "base_uri": "https://localhost:8080/"
        },
        "id": "NtOHrY4hJs4u",
        "outputId": "6a83dc7f-5acc-47de-d062-b34947e269f2"
      },
      "source": [
        "batch_size=32\n",
        "nb_epochs=1000\n",
        "history=model.fit(\n",
        "    train_generator,\n",
        "    batch_size=32,\n",
        "    validation_data = validation_generator,\n",
        "\n",
        "    epochs = nb_epochs,callbacks=[es],workers=10)"
      ],
      "execution_count": null,
      "outputs": [
        {
          "output_type": "stream",
          "text": [
            "Epoch 1/1000\n",
            "178/178 [==============================] - 2886s 16s/step - loss: 0.8962 - accuracy: 0.9392 - val_loss: 4.6959 - val_accuracy: 0.5000\n",
            "Epoch 2/1000\n",
            "178/178 [==============================] - 2829s 16s/step - loss: 1.0520 - accuracy: 0.9193 - val_loss: 6530.0151 - val_accuracy: 0.5000\n",
            "Epoch 3/1000\n",
            "178/178 [==============================] - 2827s 16s/step - loss: 0.1336 - accuracy: 0.9485 - val_loss: 5.8479 - val_accuracy: 0.5000\n",
            "Epoch 4/1000\n",
            "178/178 [==============================] - 2834s 16s/step - loss: 0.0728 - accuracy: 0.9744 - val_loss: 4.9690 - val_accuracy: 0.5000\n",
            "Epoch 5/1000\n",
            "178/178 [==============================] - 2823s 16s/step - loss: 0.0505 - accuracy: 0.9834 - val_loss: 8.5639 - val_accuracy: 0.5020\n",
            "Epoch 6/1000\n",
            "178/178 [==============================] - 2825s 16s/step - loss: 0.0300 - accuracy: 0.9911 - val_loss: 3.6922 - val_accuracy: 0.6355\n",
            "Epoch 7/1000\n",
            "178/178 [==============================] - 2829s 16s/step - loss: 0.0271 - accuracy: 0.9902 - val_loss: 0.0251 - val_accuracy: 0.9915\n",
            "Epoch 8/1000\n",
            "178/178 [==============================] - 2823s 16s/step - loss: 0.0197 - accuracy: 0.9926 - val_loss: 0.0374 - val_accuracy: 0.9855\n",
            "Epoch 9/1000\n",
            "178/178 [==============================] - 2821s 16s/step - loss: 0.0164 - accuracy: 0.9939 - val_loss: 0.0101 - val_accuracy: 0.9970\n",
            "Epoch 10/1000\n",
            "178/178 [==============================] - 2828s 16s/step - loss: 0.0087 - accuracy: 0.9966 - val_loss: 0.0319 - val_accuracy: 0.9905\n",
            "Epoch 11/1000\n",
            "178/178 [==============================] - 2825s 16s/step - loss: 0.0149 - accuracy: 0.9952 - val_loss: 0.0076 - val_accuracy: 0.9975\n",
            "Epoch 12/1000\n",
            "178/178 [==============================] - 2826s 16s/step - loss: 0.0137 - accuracy: 0.9946 - val_loss: 0.0714 - val_accuracy: 0.9950\n",
            "Epoch 13/1000\n",
            "178/178 [==============================] - 2833s 16s/step - loss: 0.0073 - accuracy: 0.9976 - val_loss: 0.0411 - val_accuracy: 0.9960\n",
            "Epoch 14/1000\n",
            "178/178 [==============================] - 2832s 16s/step - loss: 0.0127 - accuracy: 0.9958 - val_loss: 0.0396 - val_accuracy: 0.9870\n",
            "Epoch 15/1000\n",
            "178/178 [==============================] - 2832s 16s/step - loss: 0.0093 - accuracy: 0.9962 - val_loss: 0.0135 - val_accuracy: 0.9985\n",
            "Epoch 16/1000\n",
            " 24/178 [===>..........................] - ETA: 37:16 - loss: 0.0052 - accuracy: 0.9991"
          ],
          "name": "stdout"
        }
      ]
    },
    {
      "cell_type": "code",
      "metadata": {
        "colab": {
          "base_uri": "https://localhost:8080/"
        },
        "id": "93yrRcd3JywC",
        "outputId": "f6450961-7531-49b1-fbab-c063866cc7a0"
      },
      "source": [
        "test_directory='/content/gdrive/My Drive/CAT_DOGS/2Class/testing_data'\n",
        "test_datagen = ImageDataGenerator(rescale=1./255)\n",
        "test_generator = test_datagen.flow_from_directory(\n",
        "    test_directory, # same directory as training data\n",
        "    target_size=(150, 150),\n",
        "    batch_size=32,\n",
        "    class_mode='binary')\n",
        "\n"
      ],
      "execution_count": null,
      "outputs": [
        {
          "output_type": "error",
          "ename": "NameError",
          "evalue": "ignored",
          "traceback": [
            "\u001b[0;31m---------------------------------------------------------------------------\u001b[0m",
            "\u001b[0;31mNameError\u001b[0m                                 Traceback (most recent call last)",
            "\u001b[0;32m<ipython-input-1-2f8f32a0f447>\u001b[0m in \u001b[0;36m<module>\u001b[0;34m()\u001b[0m\n\u001b[1;32m      1\u001b[0m \u001b[0mtest_directory\u001b[0m\u001b[0;34m=\u001b[0m\u001b[0;34m'/content/gdrive/My Drive/CAT_DOGS/2Class/testing_data'\u001b[0m\u001b[0;34m\u001b[0m\u001b[0;34m\u001b[0m\u001b[0m\n\u001b[0;32m----> 2\u001b[0;31m \u001b[0mtest_datagen\u001b[0m \u001b[0;34m=\u001b[0m \u001b[0mImageDataGenerator\u001b[0m\u001b[0;34m(\u001b[0m\u001b[0mrescale\u001b[0m\u001b[0;34m=\u001b[0m\u001b[0;36m1.\u001b[0m\u001b[0;34m/\u001b[0m\u001b[0;36m255\u001b[0m\u001b[0;34m)\u001b[0m\u001b[0;34m\u001b[0m\u001b[0;34m\u001b[0m\u001b[0m\n\u001b[0m\u001b[1;32m      3\u001b[0m test_generator = test_datagen.flow_from_directory(\n\u001b[1;32m      4\u001b[0m     \u001b[0mtest_directory\u001b[0m\u001b[0;34m,\u001b[0m \u001b[0;31m# same directory as training data\u001b[0m\u001b[0;34m\u001b[0m\u001b[0;34m\u001b[0m\u001b[0m\n\u001b[1;32m      5\u001b[0m     \u001b[0mtarget_size\u001b[0m\u001b[0;34m=\u001b[0m\u001b[0;34m(\u001b[0m\u001b[0;36m150\u001b[0m\u001b[0;34m,\u001b[0m \u001b[0;36m150\u001b[0m\u001b[0;34m)\u001b[0m\u001b[0;34m,\u001b[0m\u001b[0;34m\u001b[0m\u001b[0;34m\u001b[0m\u001b[0m\n",
            "\u001b[0;31mNameError\u001b[0m: name 'ImageDataGenerator' is not defined"
          ]
        }
      ]
    },
    {
      "cell_type": "code",
      "metadata": {
        "colab": {
          "base_uri": "https://localhost:8080/"
        },
        "id": "tsOBv79VjJVr",
        "outputId": "7c96f78a-8084-4831-dee4-2b080a75cc1a"
      },
      "source": [
        "score = model.evaluate(test_generator)"
      ],
      "execution_count": null,
      "outputs": [
        {
          "output_type": "stream",
          "text": [
            "13/13 [==============================] - 178s 14s/step - loss: 1.1437 - accuracy: 0.5000\n"
          ],
          "name": "stdout"
        }
      ]
    }
  ]
}